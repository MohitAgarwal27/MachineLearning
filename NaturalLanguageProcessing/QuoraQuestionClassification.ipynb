{
 "cells": [
  {
   "cell_type": "markdown",
   "metadata": {},
   "source": [
    "# Quora Insincere Question Classification"
   ]
  },
  {
   "cell_type": "code",
   "execution_count": 4,
   "metadata": {
    "collapsed": true
   },
   "outputs": [],
   "source": [
    "#Loading Packages used in the project\n",
    "import pandas as pd\n",
    "import numpy as np\n",
    "from sklearn.model_selection import train_test_split\n",
    "#import sklearn as sk\n",
    "#import seaborn as sns\n",
    "#import matplotlib.pyplot as plt\n",
    "#from sklearn.preprocessing import LabelEncoder as LE"
   ]
  },
  {
   "cell_type": "code",
   "execution_count": 3,
   "metadata": {},
   "outputs": [
    {
     "name": "stdout",
     "output_type": "stream",
     "text": [
      "Train shape :  (1306122, 3)\n",
      "Test shape :  (375806, 2)\n"
     ]
    }
   ],
   "source": [
    "df_train = pd.read_csv('P:\\\\Personal\\\\Python\\\\Kaggle\\\\quora-insincere-questions-classification\\\\train.csv',engine='python')\n",
    "df_test = pd.read_csv('P:\\\\Personal\\\\Python\\\\Kaggle\\\\quora-insincere-questions-classification\\\\test.csv',engine='python')\n",
    "\n",
    "print(\"Train shape : \",df_train.shape)\n",
    "print(\"Test shape : \",df_test.shape)"
   ]
  },
  {
   "cell_type": "markdown",
   "metadata": {},
   "source": [
    "### Splitting Training data into training and validation data"
   ]
  },
  {
   "cell_type": "code",
   "execution_count": 9,
   "metadata": {},
   "outputs": [
    {
     "name": "stdout",
     "output_type": "stream",
     "text": [
      "(771250, 3)\n",
      "(85695, 3)\n",
      "                          qid  \\\n",
      "132524   19effe8a07b48cace781   \n",
      "1050168  cdc67610ad1a70d47655   \n",
      "748396   929e139ecc57813492a6   \n",
      "538257   696f80eb3c921bccab5b   \n",
      "1252692  f57d804cab166d8a8603   \n",
      "\n",
      "                                             question_text  target  \n",
      "132524             Why do people die while taking selfies?       0  \n",
      "1050168       What can a person do to increase his length?       0  \n",
      "748396   Should we buy deewan housing and gruh finance ...       0  \n",
      "538257   How should I prepare for interviews in product...       0  \n",
      "1252692                  Are you an expat or an immigrant?       0  \n"
     ]
    }
   ],
   "source": [
    "df_train, df_val = train_test_split(df_train, test_size = 0.1, random_state = 2018)\n",
    "\n",
    "print(\"Training data shape\",df_train.shape)\n",
    "print(\"Validation data shape\",df_val.shape)\n",
    "\n",
    "print(df_train.head())"
   ]
  },
  {
   "cell_type": "markdown",
   "metadata": {},
   "source": [
    "###### Setting the configuration values for the word vector"
   ]
  },
  {
   "cell_type": "code",
   "execution_count": 11,
   "metadata": {
    "collapsed": true
   },
   "outputs": [],
   "source": [
    "embed_size = 300 # how big is each word vector\n",
    "max_features = 50000 # how many unique words to use (i.e num rows in embedding vector)\n",
    "maxlen = 100 # max number of words in a question to use\n",
    "\n",
    "## fill up the missing values\n",
    "train_X = df_train[\"question_text\"].fillna(\"_na_\").values\n",
    "val_X = df_val[\"question_text\"].fillna(\"_na_\").values\n",
    "test_X = df_test[\"question_text\"].fillna(\"_na_\").values\n"
   ]
  },
  {
   "cell_type": "code",
   "execution_count": null,
   "metadata": {
    "collapsed": true
   },
   "outputs": [],
   "source": []
  }
 ],
 "metadata": {
  "kernelspec": {
   "display_name": "Python 3",
   "language": "python",
   "name": "python3"
  },
  "language_info": {
   "codemirror_mode": {
    "name": "ipython",
    "version": 3
   },
   "file_extension": ".py",
   "mimetype": "text/x-python",
   "name": "python",
   "nbconvert_exporter": "python",
   "pygments_lexer": "ipython3",
   "version": "3.6.1"
  }
 },
 "nbformat": 4,
 "nbformat_minor": 2
}
